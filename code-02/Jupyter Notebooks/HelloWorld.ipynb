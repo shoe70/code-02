{
 "cells": [
  {
   "cell_type": "markdown",
   "id": "6c72cd89-155f-458e-b990-418f3891bed6",
   "metadata": {},
   "source": [
    "### This is your first Jupyter Notebook!\n",
    "\n",
    "Click the *play* button at the top menubar to run a selected cell."
   ]
  },
  {
   "cell_type": "code",
   "execution_count": null,
   "id": "91253412-f2cf-43ad-b364-2b21ee11b52c",
   "metadata": {},
   "outputs": [],
   "source": [
    "print(\"Hello, World! 🌎\")"
   ]
  }
 ],
 "metadata": {
  "kernelspec": {
   "display_name": "Python 3 (ipykernel)",
   "language": "python",
   "name": "python3"
  },
  "language_info": {
   "codemirror_mode": {
    "name": "ipython",
    "version": 3
   },
   "file_extension": ".py",
   "mimetype": "text/x-python",
   "name": "python",
   "nbconvert_exporter": "python",
   "pygments_lexer": "ipython3",
   "version": "3.12.3"
  }
 },
 "nbformat": 4,
 "nbformat_minor": 5
}
